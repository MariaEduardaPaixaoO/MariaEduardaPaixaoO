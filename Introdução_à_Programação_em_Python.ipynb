{
  "nbformat": 4,
  "nbformat_minor": 0,
  "metadata": {
    "colab": {
      "provenance": [],
      "toc_visible": true,
      "authorship_tag": "ABX9TyPXm6zgONwGDVopX+Mjp03r",
      "include_colab_link": true
    },
    "kernelspec": {
      "name": "python3",
      "display_name": "Python 3"
    },
    "language_info": {
      "name": "python"
    }
  },
  "cells": [
    {
      "cell_type": "markdown",
      "metadata": {
        "id": "view-in-github",
        "colab_type": "text"
      },
      "source": [
        "<a href=\"https://colab.research.google.com/github/MariaEduardaPaixaoO/MariaEduardaPaixaoO/blob/main/Introdu%C3%A7%C3%A3o_%C3%A0_Programa%C3%A7%C3%A3o_em_Python.ipynb\" target=\"_parent\"><img src=\"https://colab.research.google.com/assets/colab-badge.svg\" alt=\"Open In Colab\"/></a>"
      ]
    },
    {
      "cell_type": "markdown",
      "source": [
        "# **Introdução à Programação em Python**"
      ],
      "metadata": {
        "id": "TBKB_7C8335v"
      }
    },
    {
      "cell_type": "code",
      "execution_count": null,
      "metadata": {
        "colab": {
          "base_uri": "https://localhost:8080/"
        },
        "id": "CUO7nSx-idzb",
        "outputId": "f7f94b8a-c10a-4e92-9d76-fe88be7fa06b"
      },
      "outputs": [
        {
          "output_type": "stream",
          "name": "stdout",
          "text": [
            "hello, world!\n"
          ]
        }
      ],
      "source": [
        "print(\"hello, world!\")"
      ]
    },
    {
      "cell_type": "markdown",
      "source": [
        "print: utilizado para exibir informações no console ou terminal."
      ],
      "metadata": {
        "id": "DhFgKpFPzj35"
      }
    },
    {
      "cell_type": "markdown",
      "source": [
        "frase usada para fazer um teste de verificação para saber se o python está instalado corretamente."
      ],
      "metadata": {
        "id": "s8cxE_CAj4M3"
      }
    },
    {
      "cell_type": "markdown",
      "source": [
        "**VARIAVEIS E TIPOS DE DADOS**"
      ],
      "metadata": {
        "id": "imzbRb_s1x8e"
      }
    },
    {
      "cell_type": "code",
      "source": [],
      "metadata": {
        "id": "fFo0z3-aKL7r"
      },
      "execution_count": null,
      "outputs": []
    },
    {
      "cell_type": "code",
      "source": [
        "nome = \"Maria\"\n",
        "idade = 20\n",
        "altura = 1.55\n",
        "print(nome, idade, altura)"
      ],
      "metadata": {
        "id": "bDbGDjNrkgeX",
        "colab": {
          "base_uri": "https://localhost:8080/"
        },
        "outputId": "b3949b30-2079-4031-cf6c-1cf72626e9b4"
      },
      "execution_count": 4,
      "outputs": [
        {
          "output_type": "stream",
          "name": "stdout",
          "text": [
            "Maria 20 1.55\n"
          ]
        }
      ]
    },
    {
      "cell_type": "markdown",
      "source": [
        "As variaveis definem um espaço da memoria onde aquela informação será armazenada, servindo também para manipular dados."
      ],
      "metadata": {
        "id": "GXslwhoX1XWw"
      }
    },
    {
      "cell_type": "markdown",
      "source": [
        "quando trabalhamos com variaveis, precisamos saber o tipo de dado que será atribuido para cada variavel. existem alguns tipos de dados, como por exemplo: dados numericos (int, float e complex), tipo de texto (str), valores logicos (bool), entre outros."
      ],
      "metadata": {
        "id": "FrfvLpbh2T15"
      }
    },
    {
      "cell_type": "markdown",
      "source": [
        "**OPERAÇÕES ARITMÉTICAS**"
      ],
      "metadata": {
        "id": "XZtkbhJ94NEf"
      }
    },
    {
      "cell_type": "code",
      "source": [
        "a = 10\n",
        "b = 5\n",
        "soma = a + b\n",
        "subtracao = a - b\n",
        "multiplicacao= a * b\n",
        "divisao = a / b\n",
        "print(soma, subtracao, multiplicacao, divisao)\n"
      ],
      "metadata": {
        "colab": {
          "base_uri": "https://localhost:8080/"
        },
        "id": "hNgdSP9V11-3",
        "outputId": "39b11be1-ea71-49c9-cd9d-998534aef53b"
      },
      "execution_count": 5,
      "outputs": [
        {
          "output_type": "stream",
          "name": "stdout",
          "text": [
            "15 5 50 2.0\n"
          ]
        }
      ]
    },
    {
      "cell_type": "markdown",
      "source": [
        "Utilizado para desenvolver expressões matemáticas padrões."
      ],
      "metadata": {
        "id": "prXvLS8-5vKD"
      }
    },
    {
      "cell_type": "markdown",
      "source": [
        "**CALCULADORA**"
      ],
      "metadata": {
        "id": "DgMBkK-69Fud"
      }
    },
    {
      "cell_type": "code",
      "source": [
        "v1 = float(input(\"Digite o primeiro número: \"))\n",
        "#Recebe do usuário o primeiro número, converte para float (número decimal)\n",
        "v2 = float(input(\"Digite o segundo número: \"))\n",
        "# Recebe do usuário o segundo número, converte para float\n",
        "operacao = input(\"escolha a operação (+, -, *, /): \")\n",
        "# de acordo com o símbolo escolhido pelo usuário, a operação desejada será realizada.\n",
        "\n",
        "if operacao == \"+\":\n",
        "  resultado = v1 + v2\n",
        "  print(\"resultado: \", resultado)\n",
        "\n",
        "elif operacao == \"-\":\n",
        "  resultado = v1 - v2\n",
        "  print(\"resultado: \", resultado)\n",
        "\n",
        "elif operacao == \"*\":\n",
        "  resultado = v1 * v2\n",
        "  print(\"resultado: \", resultado)\n",
        "\n",
        "elif operacao == \"/\":\n",
        "  if v2 != 0:\n",
        "    resultado = v1 / v2\n",
        "    print(\"resultado: \", resultado)\n",
        "# Se escolheu divisão e o divisor não é zero, calcula e mostra\n",
        "  else:\n",
        "    print(\"erro, divisão por zero não é permitido.\")\n",
        "# Caso o divisor seja zero, mostra mensagem de erro para evitar falha\n",
        "else:\n",
        "  print(\"operação invalida.\")\n",
        "# Caso o usuário digite um símbolo que não está listado, avisa que é inválido\n",
        "\n"
      ],
      "metadata": {
        "colab": {
          "base_uri": "https://localhost:8080/"
        },
        "id": "b2fZLA9l52y6",
        "outputId": "a06714b6-49ff-46eb-bea6-2ec9782c9129"
      },
      "execution_count": 11,
      "outputs": [
        {
          "output_type": "stream",
          "name": "stdout",
          "text": [
            "Digite o primeiro número: 10\n",
            "Digite o segundo número: 5\n",
            "escolha a operação (+, -, *, /): /\n",
            "resultado:  2.0\n"
          ]
        }
      ]
    },
    {
      "cell_type": "markdown",
      "source": [
        "**CONVERSOR DE TEMPERATURA**"
      ],
      "metadata": {
        "id": "1Jr5Zdlt9QQi"
      }
    },
    {
      "cell_type": "code",
      "source": [
        "print(\"===conversor de temperatura===\")\n",
        "print(\"1- De Celsius para Fahrenheit\")\n",
        "print(\"2- De Fahrenheit para Celsius\")\n",
        "# mostra as opções de conversão disponíveis para o usuário\n",
        "\n",
        "\n",
        "opcao = input(\"escolha a conversão (1 ou 2): \")\n",
        "# Recebe a escolha do usuário (1 ou 2) como texto\n",
        "\n",
        "\n",
        "if opcao == \"1\":\n",
        "  celsius = float(input(\"digite a temperatura a ser convertida: \"))\n",
        "  # pede a temperatura em Celsius e converte para número decimal (float)\n",
        "  Fahrenheit = (celsius * 9/5) + 32\n",
        "  #Aplica a fórmula para converter Celsius em Fahrenheit\n",
        "  print(f\"{celsius}°C equivalem a {Fahrenheit:.2f}°F\")\n",
        "\n",
        "elif opcao == \"2\":\n",
        "  Fahrenheit = float(input(\"digite a temperatura a ser convertida: \"))\n",
        "  # Solicita a temperatura em Fahrenheit e converte para float\n",
        "  celsius = (Fahrenheit - 32) * 5/9\n",
        "  # Aplica a fórmula para converter Fahrenheit em Celsius\n",
        "  print(f\"{Fahrenheit}°F equivalem a {celsius:.2f}°C\")\n",
        "else:\n",
        "  print(\"opção invalida.\")"
      ],
      "metadata": {
        "colab": {
          "base_uri": "https://localhost:8080/"
        },
        "id": "cp7zZpIn9UoN",
        "outputId": "f27a2a3c-3494-4106-f0df-daec34ffe57b"
      },
      "execution_count": 14,
      "outputs": [
        {
          "output_type": "stream",
          "name": "stdout",
          "text": [
            "===conversor de temperatura===\n",
            "1- De Celsius para Fahrenheit\n",
            "2- De Fahrenheit para Celsius\n",
            "escolha a conversão (1 ou 2): 3\n",
            "opção invalida.\n"
          ]
        }
      ]
    },
    {
      "cell_type": "markdown",
      "source": [
        "**CONTADOR DE PALAVRAS**"
      ],
      "metadata": {
        "id": "B0GtDUVIAcOO"
      }
    },
    {
      "cell_type": "code",
      "source": [
        "frase = input(\"digite uma frase: \")\n",
        "#Vai dividir a frase em uma lista de palavras\n",
        "palavras = frase.split()\n",
        "\n",
        "#O len vai conta o número de palavras\n",
        "quantidade = len(palavras)\n",
        "\n",
        "print(f\"a frase possui {quantidade} de palavras.\")\n",
        "\n"
      ],
      "metadata": {
        "colab": {
          "base_uri": "https://localhost:8080/"
        },
        "id": "6_Q_tXtl_uO-",
        "outputId": "363c61d9-b7e5-4ed5-dcb6-956874311a2f"
      },
      "execution_count": 16,
      "outputs": [
        {
          "output_type": "stream",
          "name": "stdout",
          "text": [
            "digite uma frase: dia hoje bonito carro\n",
            "a frase possui 4 de palavras.\n"
          ]
        }
      ]
    },
    {
      "cell_type": "markdown",
      "source": [
        "**ENCICLOPÉDIA DE ANIMAIS**"
      ],
      "metadata": {
        "id": "Fm11bjnJBw-s"
      }
    },
    {
      "cell_type": "code",
      "source": [
        "# === Enciclopédia de Animais ===\n",
        "# Autor: Maria Eduarda\n",
        "# Descrição: Um Programa para cadastrar e consultar informações sobre animais.\n",
        "\n",
        "# Lista para armazenar os animais\n",
        "animais = []\n",
        "\n",
        "# Função para cadastrar um novo animal\n",
        "def cadastrar_animal():\n",
        "    nome = input(\"Nome do animal: \")\n",
        "    especie = input(\"Espécie do animal: \")\n",
        "    idade = input(\"Idade do animal: \")\n",
        "\n",
        "    # Cria um dicionário com os dados\n",
        "    animal = {\n",
        "        \"nome\": nome,\n",
        "        \"especie\": especie,\n",
        "        \"idade\": idade\n",
        "    }\n",
        "\n",
        "    # Adiciona à lista\n",
        "    animais.append(animal)\n",
        "    print(f\"{nome} cadastrado com sucesso!\\n\")\n",
        "\n",
        "# Função para listar todos os animais\n",
        "def listar_animais():\n",
        "    if not animais:\n",
        "        print(\"Nenhum animal cadastrado.\\n\")\n",
        "    else:\n",
        "        print(\"\\n=== Lista de Animais ===\")\n",
        "        for i, animal in enumerate(animais, start=1):\n",
        "            print(f\"{i}. {animal['nome']} - {animal['especie']} ({animal['idade']} anos)\")\n",
        "        print()\n",
        "\n",
        "# Função para buscar animal pelo nome\n",
        "def buscar_animal():\n",
        "    nome_busca = input(\"Digite o nome do animal para buscar: \")\n",
        "    encontrado = False\n",
        "\n",
        "    for animal in animais:\n",
        "        if animal[\"nome\"].lower() == nome_busca.lower():\n",
        "            print(f\"Encontrado: {animal['nome']} - {animal['especie']} ({animal['idade']} anos)\\n\")\n",
        "            encontrado = True\n",
        "            break\n",
        "\n",
        "    if not encontrado:\n",
        "        print(\"Animal não encontrado.\\n\")\n",
        "\n",
        "# Função principal (menu)\n",
        "def menu():\n",
        "    while True:\n",
        "        print(\"=== Enciclopédia de Animais ===\")\n",
        "        print(\"1 - Cadastrar Animal\")\n",
        "        print(\"2 - Listar Animais\")\n",
        "        print(\"3 - Buscar Animal\")\n",
        "        print(\"4 - Sair\")\n",
        "\n",
        "        opcao = input(\"Escolha uma opção: \")\n",
        "\n",
        "        if opcao == \"1\":\n",
        "            cadastrar_animal()\n",
        "        elif opcao == \"2\":\n",
        "            listar_animais()\n",
        "        elif opcao == \"3\":\n",
        "            buscar_animal()\n",
        "        elif opcao == \"4\":\n",
        "            print(\"Saindo do programa...\")\n",
        "            break\n",
        "        else:\n",
        "            print(\"Opção inválida, tente novamente.\\n\")\n",
        "\n",
        "# Inicia o programa\n",
        "menu()"
      ],
      "metadata": {
        "colab": {
          "base_uri": "https://localhost:8080/"
        },
        "id": "Csq_tk9DCq7W",
        "outputId": "86bbd679-fc91-4551-9aa5-5676d9658c2c"
      },
      "execution_count": 17,
      "outputs": [
        {
          "output_type": "stream",
          "name": "stdout",
          "text": [
            "=== Enciclopédia de Animais ===\n",
            "1 - Cadastrar Animal\n",
            "2 - Listar Animais\n",
            "3 - Buscar Animal\n",
            "4 - Sair\n",
            "Escolha uma opção: 1\n",
            "Nome do animal: Carlos\n",
            "Espécie do animal: Labrador\n",
            "Idade do animal: 10\n",
            "Carlos cadastrado com sucesso!\n",
            "\n",
            "=== Enciclopédia de Animais ===\n",
            "1 - Cadastrar Animal\n",
            "2 - Listar Animais\n",
            "3 - Buscar Animal\n",
            "4 - Sair\n",
            "Escolha uma opção: 2\n",
            "\n",
            "=== Lista de Animais ===\n",
            "1. Carlos - Labrador (10 anos)\n",
            "\n",
            "=== Enciclopédia de Animais ===\n",
            "1 - Cadastrar Animal\n",
            "2 - Listar Animais\n",
            "3 - Buscar Animal\n",
            "4 - Sair\n",
            "Escolha uma opção: 1\n",
            "Nome do animal: Paula\n",
            "Espécie do animal: Castor\n",
            "Idade do animal: 3\n",
            "Paula cadastrado com sucesso!\n",
            "\n",
            "=== Enciclopédia de Animais ===\n",
            "1 - Cadastrar Animal\n",
            "2 - Listar Animais\n",
            "3 - Buscar Animal\n",
            "4 - Sair\n",
            "Escolha uma opção: 2\n",
            "\n",
            "=== Lista de Animais ===\n",
            "1. Carlos - Labrador (10 anos)\n",
            "2. Paula - Castor (3 anos)\n",
            "\n",
            "=== Enciclopédia de Animais ===\n",
            "1 - Cadastrar Animal\n",
            "2 - Listar Animais\n",
            "3 - Buscar Animal\n",
            "4 - Sair\n",
            "Escolha uma opção: 3\n",
            "Digite o nome do animal para buscar: Carlos\n",
            "Encontrado: Carlos - Labrador (10 anos)\n",
            "\n",
            "=== Enciclopédia de Animais ===\n",
            "1 - Cadastrar Animal\n",
            "2 - Listar Animais\n",
            "3 - Buscar Animal\n",
            "4 - Sair\n",
            "Escolha uma opção: 3\n",
            "Digite o nome do animal para buscar: carol\n",
            "Animal não encontrado.\n",
            "\n",
            "=== Enciclopédia de Animais ===\n",
            "1 - Cadastrar Animal\n",
            "2 - Listar Animais\n",
            "3 - Buscar Animal\n",
            "4 - Sair\n",
            "Escolha uma opção: 4\n",
            "Saindo do programa...\n"
          ]
        }
      ]
    },
    {
      "cell_type": "markdown",
      "source": [
        "**DOCUMENTAÇÃO DA APLICAÇÃO**"
      ],
      "metadata": {
        "id": "PN94YqM2EjZz"
      }
    },
    {
      "cell_type": "markdown",
      "source": [
        "**Título:** Enciclopédia de Animais\n",
        "\n",
        "**Autor:** Maria Eduarda Paixão\n",
        "\n",
        "**RGM:** 11231104075\n",
        "\n",
        "**Descrição:**\n",
        "Este aplicativo é um sistema simples para gerenciar informações sobre animais, que permite o cadastro, listagem e busca por nome.\n",
        "\n",
        "**Funcionalidades**\n",
        "Cadastrar Animal – O usuário vai informa nome, espécie e idade, que serão armazenados em uma lista.\n",
        "\n",
        "**Listar Animais** – Mostra todos os animais cadastrados com seus dados.\n",
        "\n",
        "**Buscar Animal** – Pesquisa um animal pelo nome (sem diferenciar maiúsculas e minúsculas).\n",
        "\n",
        "**Sair** – Encerra o programa.\n",
        "\n",
        "**Tecnologias Utilizadas:**\n",
        "Python\n",
        "\n",
        "**Estruturas de dados:** listas e dicionários\n",
        "\n",
        "Funções para organização do código\n",
        "\n",
        "Laços e condicionais\n",
        "\n",
        "**Como Executar:**\n",
        "Salve o código em um arquivo chamado enciclopedia_animais.py.\n",
        "\n",
        "Abra um terminal e execute:\n",
        "\n",
        "bash\n",
        "Copiar\n",
        "Editar\n",
        "python enciclopedia_animais.py\n",
        "Siga as instruções no menu.\n",
        "\n",
        "**Fluxo de Uso**\n",
        "\n",
        "1- Ao iniciar, o usuário vê o menu.\n",
        "\n",
        "2- Ele pode escolher entre as opções digitando um número.\n",
        "\n",
        "3- Os dados são mantidos enquanto o programa está em execução.\n",
        "\n",
        "Ao sair, os dados são perdidos (não há salvamento em arquivo nesta versão).\n",
        "\n"
      ],
      "metadata": {
        "id": "rrS3neaBEpGr"
      }
    },
    {
      "cell_type": "markdown",
      "source": [
        "**REFLEXÃO**"
      ],
      "metadata": {
        "id": "NmKDx1l8HlL0"
      }
    },
    {
      "cell_type": "markdown",
      "source": [
        "Acredito que o ChatGPT foi útil em certos momentos em que tive dúvidas e encontrei dificuldades para encontrar respostas. Ele me apresentou explicações diretas, o que facilitou meu aprendizado em alguns momentos. Mas, isso não dispensa a importância de consultar fontes confiáveis para ter certeza que as informações que ele me forneceu estejam corretas.\n"
      ],
      "metadata": {
        "id": "eoiB5QQoHzXk"
      }
    }
  ]
}